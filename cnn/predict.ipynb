{
 "cells": [
  {
   "cell_type": "code",
   "execution_count": 3,
   "id": "787b7730",
   "metadata": {},
   "outputs": [],
   "source": [
    "import numpy as np\n",
    "import torch\n",
    "import torch.nn as nn\n",
    "import torch.nn.functional as F\n",
    "import sys\n",
    "import os\n",
    "from scripts.dataset import Dataset\n",
    "from scripts.rgyr_model import Model as RGYR\n",
    "from scripts.tdiff_model import Model as TDIFF\n",
    "from scripts.rdiff_model import Model as RDIFF\n",
    "from scripts.gendata import Protein\n",
    "\n",
    "import warnings\n",
    "warnings.filterwarnings('ignore')"
   ]
  },
  {
   "cell_type": "code",
   "execution_count": null,
   "id": "8714591f",
   "metadata": {},
   "outputs": [],
   "source": [
    "files = []\n",
    "\n",
    "if len(files) == 1:\n",
    "    onefile = True\n",
    "    files.append(files[0]) # `Dataset` class has a hard time recognizing only one file\n",
    "elif len(files) > 1:\n",
    "    onefile = False\n",
    "else:\n",
    "    print('Please select one or more PDB files.')\n",
    "    exit()"
   ]
  },
  {
   "cell_type": "code",
   "execution_count": null,
   "id": "5ce703e2",
   "metadata": {},
   "outputs": [],
   "source": [
    "# Initialize variables\n",
    "temp = 'temp.csv'\n",
    "stdout0 = sys.stdout\n",
    "toppath = '/home/spencer/ml/hpro/models'\n",
    "\n",
    "# Analyze PDBs\n",
    "with open(temp, 'w') as f:\n",
    "    sys.stdout = f\n",
    "    for pdb in files:\n",
    "        protein = Protein(pdb)\n",
    "        print(0, end=',') # 0 is a place holder for 'label' in `Dataset` class\n",
    "        protein.all_ca_cofm_dist(1000)\n",
    "    f.close()\n",
    "\n",
    "sys.stdout = stdout0"
   ]
  },
  {
   "cell_type": "code",
   "execution_count": null,
   "id": "0644221e",
   "metadata": {},
   "outputs": [],
   "source": [
    "def predict(p,Model):\n",
    "\n",
    "    # Load model\n",
    "    m = Model()\n",
    "    m.load_state_dict(torch.load(p))\n",
    "    m.eval()\n",
    "    m.to('cuda')\n",
    "\n",
    "    # Predict properties\n",
    "    with torch.no_grad():\n",
    "\n",
    "        item = Dataset(temp)\n",
    "        test_loader = torch.utils.data.DataLoader(item)\n",
    "\n",
    "        predictions = []\n",
    "\n",
    "        for input, target in test_loader:\n",
    "            #print(input,target)\n",
    "            input = input.to('cuda')\n",
    "\n",
    "            prediction = m(input)\n",
    "\n",
    "            predictions.append(prediction.item())\n",
    "\n",
    "    return predictions"
   ]
  },
  {
   "cell_type": "code",
   "execution_count": null,
   "id": "ef28395b",
   "metadata": {},
   "outputs": [],
   "source": [
    "rgyrs = predict(f'{toppath}/rgyr_other.pt',RGYR)\n",
    "tdiffs = predict(f'{toppath}/tdiff.pt',TDIFF)\n",
    "rdiffs = predict(f'{toppath}/rdiff.pt',RDIFF)"
   ]
  },
  {
   "cell_type": "code",
   "execution_count": null,
   "id": "39fccae7",
   "metadata": {},
   "outputs": [],
   "source": [
    "if onefile:\n",
    "    del files[1]\n",
    "\n",
    "for i in range(len(files)):\n",
    "    print(f\"\\nFILE: '{files[i]}'\\n\")\n",
    "    print('                  Radius of Gyration:', rgyrs[i] / 1e8, 'cm')\n",
    "    print(' Translational Diffusion Coefficient:', tdiffs[i] * 0.01, 'nm^2/ns')\n",
    "    print('    Rotational Diffusion Coefficient:', rdiffs[i] * 0.001, 'ns^-1')\n",
    "    \n",
    "os.remove(temp)\n",
    "print()"
   ]
  }
 ],
 "metadata": {
  "kernelspec": {
   "display_name": "Python 3 (ipykernel)",
   "language": "python",
   "name": "python3"
  },
  "language_info": {
   "codemirror_mode": {
    "name": "ipython",
    "version": 3
   },
   "file_extension": ".py",
   "mimetype": "text/x-python",
   "name": "python",
   "nbconvert_exporter": "python",
   "pygments_lexer": "ipython3",
   "version": "3.9.9"
  }
 },
 "nbformat": 4,
 "nbformat_minor": 5
}
