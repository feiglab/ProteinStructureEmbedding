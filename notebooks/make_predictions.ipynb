{
 "cells": [
  {
   "cell_type": "markdown",
   "id": "17227008",
   "metadata": {},
   "source": [
    "# Default Predictions"
   ]
  },
  {
   "cell_type": "code",
   "execution_count": 2,
   "id": "c52caa22",
   "metadata": {},
   "outputs": [],
   "source": []
  },
  {
   "cell_type": "markdown",
   "id": "a797bca6",
   "metadata": {},
   "source": [
    "# SASA Predictions"
   ]
  },
  {
   "cell_type": "code",
   "execution_count": 4,
   "id": "530d3b42",
   "metadata": {},
   "outputs": [],
   "source": [
    "pass"
   ]
  },
  {
   "cell_type": "markdown",
   "id": "d681a831",
   "metadata": {},
   "source": [
    "# pKa Predictions"
   ]
  },
  {
   "cell_type": "code",
   "execution_count": null,
   "id": "ce511dae",
   "metadata": {},
   "outputs": [],
   "source": [
    "pass"
   ]
  }
 ],
 "metadata": {
  "kernelspec": {
   "display_name": "Python 3 (ipykernel)",
   "language": "python",
   "name": "python3"
  },
  "language_info": {
   "codemirror_mode": {
    "name": "ipython",
    "version": 3
   },
   "file_extension": ".py",
   "mimetype": "text/x-python",
   "name": "python",
   "nbconvert_exporter": "python",
   "pygments_lexer": "ipython3",
   "version": "3.9.13"
  }
 },
 "nbformat": 4,
 "nbformat_minor": 5
}
